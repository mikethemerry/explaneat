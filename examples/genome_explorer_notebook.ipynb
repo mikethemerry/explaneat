{
 "cells": [
  {
   "cell_type": "markdown",
   "metadata": {},
   "source": [
    "# GenomeExplorer: Interactive Genome Analysis\n",
    "\n",
    "This notebook demonstrates how to use the GenomeExplorer API to analyze NEAT genomes stored in the database.\n",
    "\n",
    "## Prerequisites\n",
    "- Run `test_full_lifecycle.py` to populate the database with example data\n",
    "- Or run your own experiments with database integration enabled"
   ]
  },
  {
   "cell_type": "code",
   "execution_count": null,
   "metadata": {},
   "outputs": [],
   "source": [
    "# Import required libraries\n",
    "import pandas as pd\n",
    "import matplotlib.pyplot as plt\n",
    "import seaborn as sns\n",
    "from explaneat.db import db\n",
    "from explaneat.analysis import GenomeExplorer\n",
    "\n",
    "# Configure plotting\n",
    "plt.style.use('seaborn-v0_8-darkgrid')\n",
    "%matplotlib inline\n",
    "\n",
    "# Initialize database\n",
    "db.init_db()\n",
    "print(\"Database initialized!\")"
   ]
  },
  {
   "cell_type": "markdown",
   "metadata": {},
   "source": [
    "## 1. List Available Experiments"
   ]
  },
  {
   "cell_type": "code",
   "execution_count": null,
   "metadata": {},
   "outputs": [],
   "source": [
    "# Get list of all experiments\n",
    "experiments_df = GenomeExplorer.list_experiments()\n",
    "\n",
    "# Display experiments\n",
    "print(f\"Found {len(experiments_df)} experiments:\\n\")\n",
    "experiments_df[['experiment_id', 'name', 'status', 'generations', 'best_fitness', 'created_at']]"
   ]
  },
  {
   "cell_type": "markdown",
   "metadata": {},
   "source": [
    "## 2. Load Best Genome from an Experiment"
   ]
  },
  {
   "cell_type": "code",
   "execution_count": null,
   "metadata": {},
   "outputs": [],
   "source": [
    "# Select the most recent completed experiment\n",
    "completed_experiments = experiments_df[experiments_df['status'] == 'completed']\n",
    "\n",
    "if completed_experiments.empty:\n",
    "    print(\"No completed experiments found!\")\n",
    "else:\n",
    "    experiment_id = completed_experiments.iloc[0]['experiment_id']\n",
    "    experiment_name = completed_experiments.iloc[0]['name']\n",
    "    \n",
    "    print(f\"Loading best genome from: {experiment_name}\")\n",
    "    print(f\"Experiment ID: {experiment_id}\")\n",
    "    \n",
    "    # Create GenomeExplorer instance\n",
    "    explorer = GenomeExplorer.load_best_genome(experiment_id)"
   ]
  },
  {
   "cell_type": "markdown",
   "metadata": {},
   "source": [
    "## 3. Genome Summary"
   ]
  },
  {
   "cell_type": "code",
   "execution_count": null,
   "metadata": {},
   "outputs": [],
   "source": [
    "# Display comprehensive summary\n",
    "explorer.summary()"
   ]
  },
  {
   "cell_type": "markdown",
   "metadata": {},
   "source": [
    "## 4. Network Visualization"
   ]
  },
  {
   "cell_type": "code",
   "execution_count": null,
   "metadata": {},
   "outputs": [],
   "source": [
    "# Visualize the network structure\n",
    "explorer.show_network(figsize=(12, 8), layout='hierarchical')"
   ]
  },
  {
   "cell_type": "code",
   "execution_count": null,
   "metadata": {},
   "outputs": [],
   "source": [
    "# Analyze node properties\n",
    "explorer.visualizer.plot_node_properties()"
   ]
  },
  {
   "cell_type": "code",
   "execution_count": null,
   "metadata": {},
   "outputs": [],
   "source": [
    "# Analyze connection properties\n",
    "explorer.visualizer.plot_connection_properties()"
   ]
  },
  {
   "cell_type": "markdown",
   "metadata": {},
   "source": [
    "## 5. Ancestry Analysis"
   ]
  },
  {
   "cell_type": "code",
   "execution_count": null,
   "metadata": {},
   "outputs": [],
   "source": [
    "# Get ancestry tree\n",
    "ancestry_df = explorer.get_ancestry_tree(max_generations=10)\n",
    "\n",
    "print(f\"Found {len(ancestry_df)} ancestors\")\n",
    "if not ancestry_df.empty:\n",
    "    print(\"\\nAncestry tree:\")\n",
    "    ancestry_df[['neat_genome_id', 'generation', 'fitness', 'num_nodes', 'num_connections']]"
   ]
  },
  {
   "cell_type": "code",
   "execution_count": null,
   "metadata": {},
   "outputs": [],
   "source": [
    "# Get lineage statistics\n",
    "lineage_stats = explorer.ancestry_analyzer.get_lineage_statistics()\n",
    "\n",
    "if lineage_stats:\n",
    "    print(\"Lineage Statistics:\")\n",
    "    print(f\"  Length: {lineage_stats['lineage_length']} generations\")\n",
    "    \n",
    "    fp = lineage_stats['fitness_progression']\n",
    "    print(f\"\\nFitness Progression:\")\n",
    "    print(f\"  Trend: {fp['fitness_trend']}\")\n",
    "    print(f\"  Initial: {fp['initial_fitness']:.3f}\")\n",
    "    print(f\"  Final: {fp['final_fitness']:.3f}\")\n",
    "    print(f\"  Best: {fp['best_fitness']:.3f}\")\n",
    "    print(f\"  Average: {fp['average_fitness']:.3f}\")\n",
    "    \n",
    "    cp = lineage_stats['complexity_progression']\n",
    "    print(f\"\\nComplexity Progression:\")\n",
    "    print(f\"  Trend: {cp['complexity_trend']}\")\n",
    "    print(f\"  Nodes: {cp['initial_nodes']} → {cp['final_nodes']} (max: {cp['max_nodes']})\")\n",
    "    print(f\"  Connections: {cp['initial_connections']} → {cp['final_connections']} (max: {cp['max_connections']})\")"
   ]
  },
  {
   "cell_type": "code",
   "execution_count": null,
   "metadata": {},
   "outputs": [],
   "source": [
    "# Plot ancestry fitness progression\n",
    "if len(ancestry_df) > 1:\n",
    "    explorer.plot_ancestry_fitness()"
   ]
  },
  {
   "cell_type": "markdown",
   "metadata": {},
   "source": [
    "## 6. Gene Origins Analysis"
   ]
  },
  {
   "cell_type": "code",
   "execution_count": null,
   "metadata": {},
   "outputs": [],
   "source": [
    "# Trace when genes were introduced\n",
    "gene_origins_df = explorer.trace_gene_origins()\n",
    "\n",
    "if not gene_origins_df.empty:\n",
    "    print(f\"Analyzed {len(gene_origins_df)} genes\\n\")\n",
    "    \n",
    "    # Summary by generation\n",
    "    origin_summary = gene_origins_df.groupby(['gene_type', 'origin_generation']).size().unstack(fill_value=0)\n",
    "    print(\"Genes introduced by generation:\")\n",
    "    origin_summary"
   ]
  },
  {
   "cell_type": "code",
   "execution_count": null,
   "metadata": {},
   "outputs": [],
   "source": [
    "# Show newest genes\n",
    "if not gene_origins_df.empty:\n",
    "    newest_genes = gene_origins_df.nlargest(5, 'origin_generation')\n",
    "    print(\"5 Most Recently Added Genes:\")\n",
    "    for _, gene in newest_genes.iterrows():\n",
    "        print(f\"  {gene['gene_type']}: {gene['gene_id']} (gen {gene['origin_generation']})\")"
   ]
  },
  {
   "cell_type": "markdown",
   "metadata": {},
   "source": [
    "## 7. Training Performance"
   ]
  },
  {
   "cell_type": "code",
   "execution_count": null,
   "metadata": {},
   "outputs": [],
   "source": [
    "# Plot training metrics if available\n",
    "if explorer.genome_info.training_metrics:\n",
    "    explorer.plot_training_metrics()\n",
    "    \n",
    "    # Create DataFrame for analysis\n",
    "    metrics_df = pd.DataFrame(explorer.genome_info.training_metrics)\n",
    "    \n",
    "    print(\"\\nTraining Summary:\")\n",
    "    print(f\"  Final loss: {metrics_df['loss'].iloc[-1]:.4f}\")\n",
    "    print(f\"  Final accuracy: {metrics_df['accuracy'].iloc[-1]:.4f}\")\n",
    "    print(f\"  Loss reduction: {metrics_df['loss'].iloc[0] - metrics_df['loss'].iloc[-1]:.4f}\")\n",
    "else:\n",
    "    print(\"No training metrics available\")"
   ]
  },
  {
   "cell_type": "markdown",
   "metadata": {},
   "source": [
    "## 8. Performance Context"
   ]
  },
  {
   "cell_type": "code",
   "execution_count": null,
   "metadata": {},
   "outputs": [],
   "source": [
    "# Get performance context within population and experiment\n",
    "context = explorer.get_performance_context()\n",
    "\n",
    "print(\"Performance Context:\")\n",
    "print(f\"  Rank in generation: {context['generation_rank']}/{context['generation_size']}\")\n",
    "print(f\"  Generation best fitness: {context['generation_best']:.3f}\")\n",
    "print(f\"  Generation mean fitness: {context['generation_mean']:.3f} (±{context['generation_std']:.3f})\")\n",
    "print(f\"  Is best in generation: {context['is_generation_best']}\")\n",
    "print(f\"  Experiment best fitness: {context['experiment_best_fitness']:.3f}\")\n",
    "print(f\"  Total experiment generations: {context['experiment_generations']}\")"
   ]
  },
  {
   "cell_type": "markdown",
   "metadata": {},
   "source": [
    "## 9. Compare with Ancestors"
   ]
  },
  {
   "cell_type": "code",
   "execution_count": null,
   "metadata": {},
   "outputs": [],
   "source": [
    "# Compare with oldest ancestor if available\n",
    "if len(ancestry_df) > 1:\n",
    "    oldest_generation = ancestry_df['generation'].min()\n",
    "    comparison = explorer.compare_with_ancestor(oldest_generation)\n",
    "    \n",
    "    if 'error' not in comparison:\n",
    "        print(f\"Comparison with ancestor from generation {oldest_generation}:\")\n",
    "        print(f\"\\nFitness change: {comparison['fitness_change']:.3f}\")\n",
    "        \n",
    "        sc = comparison['structure_changes']\n",
    "        print(f\"\\nStructure changes:\")\n",
    "        print(f\"  Nodes: +{sc['nodes_added']} / -{sc['nodes_removed']}\")\n",
    "        print(f\"  Connections: +{sc['connections_added']} / -{sc['connections_removed']}\")\n",
    "        \n",
    "        if sc['added_nodes']:\n",
    "            print(f\"  Added nodes: {sc['added_nodes']}\")\n",
    "        if sc['added_connections']:\n",
    "            print(f\"  Added connections: {sc['added_connections'][:5]}...\" if len(sc['added_connections']) > 5 else f\"  Added connections: {sc['added_connections']}\")\n",
    "        \n",
    "        pc = comparison['parameter_changes']\n",
    "        print(f\"\\nParameter changes:\")\n",
    "        print(f\"  Average weight change: {pc['avg_weight_change']:.3f}\")\n",
    "        print(f\"  Average bias change: {pc['avg_bias_change']:.3f}\")\n",
    "else:\n",
    "    print(\"No ancestors available for comparison\")"
   ]
  },
  {
   "cell_type": "markdown",
   "metadata": {},
   "source": [
    "## 10. Export Data for External Analysis"
   ]
  },
  {
   "cell_type": "code",
   "execution_count": null,
   "metadata": {},
   "outputs": [],
   "source": [
    "# Export all genome data\n",
    "export_data = explorer.export_genome_data()\n",
    "\n",
    "print(f\"Exported data contains {len(export_data)} sections:\")\n",
    "for key in export_data.keys():\n",
    "    if isinstance(export_data[key], list):\n",
    "        print(f\"  - {key}: {len(export_data[key])} items\")\n",
    "    elif isinstance(export_data[key], dict):\n",
    "        print(f\"  - {key}: {len(export_data[key])} fields\")\n",
    "    else:\n",
    "        print(f\"  - {key}\")\n",
    "\n",
    "# Example: Access specific data\n",
    "print(f\"\\nGenome fitness: {export_data['genome_info']['fitness']:.3f}\")\n",
    "print(f\"Number of nodes: {len(export_data['neat_genome_nodes'])}\")\n",
    "print(f\"Number of connections: {len(export_data['neat_genome_connections'])}\")"
   ]
  },
  {
   "cell_type": "markdown",
   "metadata": {},
   "source": [
    "## 11. Interactive Exploration\n",
    "\n",
    "Now you can explore the genome interactively using the `explorer` object:"
   ]
  },
  {
   "cell_type": "code",
   "execution_count": null,
   "metadata": {},
   "outputs": [],
   "source": [
    "# Example: Get specific node information\n",
    "node_id = 0  # Output node\n",
    "if node_id in explorer.neat_genome.nodes:\n",
    "    node = explorer.neat_genome.nodes[node_id]\n",
    "    print(f\"Node {node_id} properties:\")\n",
    "    print(f\"  Bias: {node.bias:.3f}\")\n",
    "    print(f\"  Response: {node.response:.3f}\")\n",
    "    print(f\"  Activation: {node.activation}\")\n",
    "    print(f\"  Aggregation: {node.aggregation}\")"
   ]
  },
  {
   "cell_type": "code",
   "execution_count": null,
   "metadata": {},
   "outputs": [],
   "source": [
    "# Example: List all connections\n",
    "print(\"Network connections:\")\n",
    "for conn_key, conn in explorer.neat_genome.connections.items():\n",
    "    if conn.enabled:\n",
    "        print(f\"  {conn_key[0]} → {conn_key[1]}: weight={conn.weight:.3f}\")"
   ]
  },
  {
   "cell_type": "markdown",
   "metadata": {},
   "source": [
    "## Summary\n",
    "\n",
    "This notebook demonstrated how to:\n",
    "1. Load genomes from the database\n",
    "2. Analyze network structure and properties\n",
    "3. Trace evolutionary ancestry\n",
    "4. Identify when genes were introduced\n",
    "5. Compare genomes across generations\n",
    "6. Export data for external analysis\n",
    "\n",
    "The `GenomeExplorer` class provides a comprehensive API for understanding how NEAT genomes evolve and what makes them successful."
   ]
  }
 ],
 "metadata": {
  "kernelspec": {
   "display_name": "Python 3",
   "language": "python",
   "name": "python3"
  },
  "language_info": {
   "codemirror_mode": {
    "name": "ipython",
    "version": 3
   },
   "file_extension": ".py",
   "mimetype": "text/x-python",
   "name": "python",
   "nbconvert_exporter": "python",
   "pygments_lexer": "ipython3",
   "version": "3.8.0"
  }
 },
 "nbformat": 4,
 "nbformat_minor": 4
}